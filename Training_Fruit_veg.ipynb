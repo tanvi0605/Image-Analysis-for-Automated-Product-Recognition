{
  "nbformat": 4,
  "nbformat_minor": 0,
  "metadata": {
    "colab": {
      "provenance": [],
      "mount_file_id": "1R16OfFzhgyGcoQ76qeXPh6JMN55rfZXq",
      "authorship_tag": "ABX9TyPxheJpwJu84qfJBhBfo3M0",
      "include_colab_link": true
    },
    "kernelspec": {
      "name": "python3",
      "display_name": "Python 3"
    },
    "language_info": {
      "name": "python"
    }
  },
  "cells": [
    {
      "cell_type": "markdown",
      "metadata": {
        "id": "view-in-github",
        "colab_type": "text"
      },
      "source": [
        "<a href=\"https://colab.research.google.com/github/tanvi0605/Image-Analysis-for-Automated-Product-Recognition/blob/main/Training_Fruit_veg.ipynb\" target=\"_parent\"><img src=\"https://colab.research.google.com/assets/colab-badge.svg\" alt=\"Open In Colab\"/></a>"
      ]
    },
    {
      "cell_type": "code",
      "execution_count": 1,
      "metadata": {
        "colab": {
          "base_uri": "https://localhost:8080/"
        },
        "id": "rFVZPl9uQmMM",
        "outputId": "cc6752f1-de9b-4e52-af14-7ff2524e2d0c"
      },
      "outputs": [
        {
          "output_type": "stream",
          "name": "stdout",
          "text": [
            "Mounted at /content/drive\n"
          ]
        }
      ],
      "source": [
        "from google.colab import drive  #upto 6\n",
        "drive.mount('/content/drive')"
      ]
    },
    {
      "cell_type": "code",
      "source": [
        "from google.colab import drive\n",
        "drive.mount('/content/drive')"
      ],
      "metadata": {
        "id": "qbaOHxLdU-Nr"
      },
      "execution_count": null,
      "outputs": []
    },
    {
      "cell_type": "code",
      "source": [
        "import numpy as np\n",
        "import tensorflow as tf\n",
        "import matplotlib.pyplot as plt\n"
      ],
      "metadata": {
        "id": "bS0Gt1zUckKc"
      },
      "execution_count": 2,
      "outputs": []
    },
    {
      "cell_type": "markdown",
      "source": [
        "DATA PREPROCESSING"
      ],
      "metadata": {
        "id": "qHTRFbunVyJ9"
      }
    },
    {
      "cell_type": "code",
      "source": [
        "training_set= tf.keras.utils.image_dataset_from_directory(\n",
        "    '/content/drive/MyDrive/fruit and vegetable recognition/train',\n",
        "    labels=\"inferred\",\n",
        "    label_mode=\"categorical\",\n",
        "    class_names=None,\n",
        "    color_mode=\"rgb\",\n",
        "    batch_size=32,\n",
        "    image_size=(64, 64),\n",
        "    shuffle=True,\n",
        "    seed=None,\n",
        "    validation_split=None,\n",
        "    subset=None,\n",
        "    interpolation=\"bilinear\",\n",
        "    follow_links=False,\n",
        "    crop_to_aspect_ratio=False,\n",
        ")\n"
      ],
      "metadata": {
        "colab": {
          "base_uri": "https://localhost:8080/"
        },
        "id": "ngVvMIurc2fj",
        "outputId": "895788f3-f447-464b-d0ed-62732c6fde91"
      },
      "execution_count": 3,
      "outputs": [
        {
          "output_type": "stream",
          "name": "stdout",
          "text": [
            "Found 3115 files belonging to 36 classes.\n"
          ]
        }
      ]
    },
    {
      "cell_type": "code",
      "source": [
        "validation_set=tf.keras.utils.image_dataset_from_directory(\n",
        "    '/content/drive/MyDrive/fruit and vegetable/validation',\n",
        "    labels=\"inferred\",\n",
        "    label_mode=\"categorical\",\n",
        "    class_names=None,\n",
        "    color_mode=\"rgb\",\n",
        "    batch_size=32,\n",
        "    image_size=(64, 64),\n",
        "    shuffle=True,\n",
        "    seed=None,\n",
        "    validation_split=None,\n",
        "    subset=None,\n",
        "    interpolation=\"bilinear\",\n",
        "    follow_links=False,\n",
        "    crop_to_aspect_ratio=False\n",
        ")"
      ],
      "metadata": {
        "colab": {
          "base_uri": "https://localhost:8080/"
        },
        "id": "1u0eGhkJloFR",
        "outputId": "8a953602-a44b-4c08-995c-33a15390f647"
      },
      "execution_count": 4,
      "outputs": [
        {
          "output_type": "stream",
          "name": "stdout",
          "text": [
            "Found 341 files belonging to 36 classes.\n"
          ]
        }
      ]
    },
    {
      "cell_type": "code",
      "source": [
        "cnn=tf.keras.models.Sequential()"
      ],
      "metadata": {
        "id": "-ze0iz7Kmzui"
      },
      "execution_count": 5,
      "outputs": []
    },
    {
      "cell_type": "code",
      "source": [
        "cnn.add(tf.keras.layers.Conv2D(filters=64,kernel_size=3,activation='relu',input_shape=[64,64,3]))\n",
        "cnn.add(tf.keras.layers.MaxPool2D(pool_size=2,strides=2))"
      ],
      "metadata": {
        "id": "n5QrX0HTnCBp",
        "colab": {
          "base_uri": "https://localhost:8080/"
        },
        "outputId": "075337b3-b561-47d5-f11c-a6d81f8770e5"
      },
      "execution_count": 6,
      "outputs": [
        {
          "output_type": "stream",
          "name": "stderr",
          "text": [
            "/usr/local/lib/python3.10/dist-packages/keras/src/layers/convolutional/base_conv.py:107: UserWarning: Do not pass an `input_shape`/`input_dim` argument to a layer. When using Sequential models, prefer using an `Input(shape)` object as the first layer in the model instead.\n",
            "  super().__init__(activity_regularizer=activity_regularizer, **kwargs)\n"
          ]
        }
      ]
    },
    {
      "cell_type": "code",
      "source": [
        "cnn.add(tf.keras.layers.Conv2D(filters=64,kernel_size=3,activation='relu'))\n",
        "cnn.add(tf.keras.layers.MaxPool2D(pool_size=2,strides=2))"
      ],
      "metadata": {
        "id": "MA_K8NwmoRVc"
      },
      "execution_count": 7,
      "outputs": []
    },
    {
      "cell_type": "code",
      "source": [
        "cnn.add(tf.keras.layers.Dropout(0.5))"
      ],
      "metadata": {
        "id": "T4uEJ3xtod57"
      },
      "execution_count": 8,
      "outputs": []
    },
    {
      "cell_type": "code",
      "source": [
        "cnn.add(tf.keras.layers.Flatten())"
      ],
      "metadata": {
        "id": "CZWqNaJeooqR"
      },
      "execution_count": 9,
      "outputs": []
    },
    {
      "cell_type": "code",
      "source": [
        "cnn.add(tf.keras.layers.Dense(units=128,activation='relu'))"
      ],
      "metadata": {
        "id": "BZrYYvFYoujt"
      },
      "execution_count": 10,
      "outputs": []
    },
    {
      "cell_type": "code",
      "source": [
        "cnn.add(tf.keras.layers.Dense(units=36,activation='softmax'))"
      ],
      "metadata": {
        "id": "x5JzkKE7o7Zi"
      },
      "execution_count": 11,
      "outputs": []
    },
    {
      "cell_type": "code",
      "source": [
        "cnn.compile(optimizer='rmsprop',loss='categorical_crossentropy',metrics=['accuracy'])"
      ],
      "metadata": {
        "id": "1fJHHDChpQNn"
      },
      "execution_count": 12,
      "outputs": []
    },
    {
      "cell_type": "code",
      "source": [
        "training_history=cnn.fit(x=training_set,validation_data=validation_set,epochs=30)"
      ],
      "metadata": {
        "colab": {
          "base_uri": "https://localhost:8080/"
        },
        "id": "JWLot5jNqA6I",
        "outputId": "22f2c94c-62b1-42c0-bc7e-3e0c5146cda0"
      },
      "execution_count": 13,
      "outputs": [
        {
          "output_type": "stream",
          "name": "stdout",
          "text": [
            "Epoch 1/30\n",
            "\u001b[1m98/98\u001b[0m \u001b[32m━━━━━━━━━━━━━━━━━━━━\u001b[0m\u001b[37m\u001b[0m \u001b[1m659s\u001b[0m 7s/step - accuracy: 0.0383 - loss: 34.5826 - val_accuracy: 0.1026 - val_loss: 3.4738\n",
            "Epoch 2/30\n",
            "\u001b[1m98/98\u001b[0m \u001b[32m━━━━━━━━━━━━━━━━━━━━\u001b[0m\u001b[37m\u001b[0m \u001b[1m139s\u001b[0m 1s/step - accuracy: 0.0546 - loss: 3.8910 - val_accuracy: 0.1965 - val_loss: 3.3656\n",
            "Epoch 3/30\n",
            "\u001b[1m98/98\u001b[0m \u001b[32m━━━━━━━━━━━━━━━━━━━━\u001b[0m\u001b[37m\u001b[0m \u001b[1m112s\u001b[0m 1s/step - accuracy: 0.0912 - loss: 4.0030 - val_accuracy: 0.2375 - val_loss: 2.9049\n",
            "Epoch 4/30\n",
            "\u001b[1m98/98\u001b[0m \u001b[32m━━━━━━━━━━━━━━━━━━━━\u001b[0m\u001b[37m\u001b[0m \u001b[1m146s\u001b[0m 1s/step - accuracy: 0.1427 - loss: 3.5077 - val_accuracy: 0.1408 - val_loss: 3.7203\n",
            "Epoch 5/30\n",
            "\u001b[1m98/98\u001b[0m \u001b[32m━━━━━━━━━━━━━━━━━━━━\u001b[0m\u001b[37m\u001b[0m \u001b[1m124s\u001b[0m 1s/step - accuracy: 0.1756 - loss: 3.2409 - val_accuracy: 0.4252 - val_loss: 2.4527\n",
            "Epoch 6/30\n",
            "\u001b[1m98/98\u001b[0m \u001b[32m━━━━━━━━━━━━━━━━━━━━\u001b[0m\u001b[37m\u001b[0m \u001b[1m129s\u001b[0m 1s/step - accuracy: 0.2466 - loss: 3.0628 - val_accuracy: 0.3930 - val_loss: 2.7807\n",
            "Epoch 7/30\n",
            "\u001b[1m98/98\u001b[0m \u001b[32m━━━━━━━━━━━━━━━━━━━━\u001b[0m\u001b[37m\u001b[0m \u001b[1m124s\u001b[0m 1s/step - accuracy: 0.3329 - loss: 3.1667 - val_accuracy: 0.6129 - val_loss: 1.8841\n",
            "Epoch 8/30\n",
            "\u001b[1m98/98\u001b[0m \u001b[32m━━━━━━━━━━━━━━━━━━━━\u001b[0m\u001b[37m\u001b[0m \u001b[1m115s\u001b[0m 1s/step - accuracy: 0.3991 - loss: 2.5339 - val_accuracy: 0.6158 - val_loss: 1.7836\n",
            "Epoch 9/30\n",
            "\u001b[1m98/98\u001b[0m \u001b[32m━━━━━━━━━━━━━━━━━━━━\u001b[0m\u001b[37m\u001b[0m \u001b[1m141s\u001b[0m 1s/step - accuracy: 0.4847 - loss: 2.0703 - val_accuracy: 0.6510 - val_loss: 1.6606\n",
            "Epoch 10/30\n",
            "\u001b[1m98/98\u001b[0m \u001b[32m━━━━━━━━━━━━━━━━━━━━\u001b[0m\u001b[37m\u001b[0m \u001b[1m120s\u001b[0m 1s/step - accuracy: 0.5491 - loss: 1.8285 - val_accuracy: 0.7390 - val_loss: 1.2508\n",
            "Epoch 11/30\n",
            "\u001b[1m98/98\u001b[0m \u001b[32m━━━━━━━━━━━━━━━━━━━━\u001b[0m\u001b[37m\u001b[0m \u001b[1m137s\u001b[0m 1s/step - accuracy: 0.5594 - loss: 1.9383 - val_accuracy: 0.7713 - val_loss: 1.3405\n",
            "Epoch 12/30\n",
            "\u001b[1m98/98\u001b[0m \u001b[32m━━━━━━━━━━━━━━━━━━━━\u001b[0m\u001b[37m\u001b[0m \u001b[1m113s\u001b[0m 1s/step - accuracy: 0.6419 - loss: 1.4903 - val_accuracy: 0.8211 - val_loss: 1.2430\n",
            "Epoch 13/30\n",
            "\u001b[1m98/98\u001b[0m \u001b[32m━━━━━━━━━━━━━━━━━━━━\u001b[0m\u001b[37m\u001b[0m \u001b[1m145s\u001b[0m 1s/step - accuracy: 0.6981 - loss: 1.2396 - val_accuracy: 0.8563 - val_loss: 1.0322\n",
            "Epoch 14/30\n",
            "\u001b[1m98/98\u001b[0m \u001b[32m━━━━━━━━━━━━━━━━━━━━\u001b[0m\u001b[37m\u001b[0m \u001b[1m117s\u001b[0m 1s/step - accuracy: 0.6793 - loss: 1.5543 - val_accuracy: 0.8592 - val_loss: 1.1253\n",
            "Epoch 15/30\n",
            "\u001b[1m98/98\u001b[0m \u001b[32m━━━━━━━━━━━━━━━━━━━━\u001b[0m\u001b[37m\u001b[0m \u001b[1m140s\u001b[0m 1s/step - accuracy: 0.7097 - loss: 1.3737 - val_accuracy: 0.8504 - val_loss: 0.9942\n",
            "Epoch 16/30\n",
            "\u001b[1m98/98\u001b[0m \u001b[32m━━━━━━━━━━━━━━━━━━━━\u001b[0m\u001b[37m\u001b[0m \u001b[1m114s\u001b[0m 1s/step - accuracy: 0.7222 - loss: 1.3404 - val_accuracy: 0.8856 - val_loss: 1.3093\n",
            "Epoch 17/30\n",
            "\u001b[1m98/98\u001b[0m \u001b[32m━━━━━━━━━━━━━━━━━━━━\u001b[0m\u001b[37m\u001b[0m \u001b[1m113s\u001b[0m 1s/step - accuracy: 0.7718 - loss: 1.1193 - val_accuracy: 0.8974 - val_loss: 0.9819\n",
            "Epoch 18/30\n",
            "\u001b[1m98/98\u001b[0m \u001b[32m━━━━━━━━━━━━━━━━━━━━\u001b[0m\u001b[37m\u001b[0m \u001b[1m142s\u001b[0m 1s/step - accuracy: 0.7782 - loss: 1.0128 - val_accuracy: 0.9150 - val_loss: 0.9862\n",
            "Epoch 19/30\n",
            "\u001b[1m98/98\u001b[0m \u001b[32m━━━━━━━━━━━━━━━━━━━━\u001b[0m\u001b[37m\u001b[0m \u001b[1m118s\u001b[0m 1s/step - accuracy: 0.8088 - loss: 0.8853 - val_accuracy: 0.8475 - val_loss: 1.2559\n",
            "Epoch 20/30\n",
            "\u001b[1m98/98\u001b[0m \u001b[32m━━━━━━━━━━━━━━━━━━━━\u001b[0m\u001b[37m\u001b[0m \u001b[1m137s\u001b[0m 1s/step - accuracy: 0.7914 - loss: 1.0474 - val_accuracy: 0.8944 - val_loss: 1.0434\n",
            "Epoch 21/30\n",
            "\u001b[1m98/98\u001b[0m \u001b[32m━━━━━━━━━━━━━━━━━━━━\u001b[0m\u001b[37m\u001b[0m \u001b[1m114s\u001b[0m 1s/step - accuracy: 0.8030 - loss: 1.1435 - val_accuracy: 0.9150 - val_loss: 1.2375\n",
            "Epoch 22/30\n",
            "\u001b[1m98/98\u001b[0m \u001b[32m━━━━━━━━━━━━━━━━━━━━\u001b[0m\u001b[37m\u001b[0m \u001b[1m140s\u001b[0m 1s/step - accuracy: 0.8221 - loss: 0.8767 - val_accuracy: 0.7361 - val_loss: 2.7356\n",
            "Epoch 23/30\n",
            "\u001b[1m98/98\u001b[0m \u001b[32m━━━━━━━━━━━━━━━━━━━━\u001b[0m\u001b[37m\u001b[0m \u001b[1m112s\u001b[0m 1s/step - accuracy: 0.7994 - loss: 1.2892 - val_accuracy: 0.9443 - val_loss: 0.8777\n",
            "Epoch 24/30\n",
            "\u001b[1m98/98\u001b[0m \u001b[32m━━━━━━━━━━━━━━━━━━━━\u001b[0m\u001b[37m\u001b[0m \u001b[1m119s\u001b[0m 1s/step - accuracy: 0.8471 - loss: 0.8944 - val_accuracy: 0.8886 - val_loss: 1.2020\n",
            "Epoch 25/30\n",
            "\u001b[1m98/98\u001b[0m \u001b[32m━━━━━━━━━━━━━━━━━━━━\u001b[0m\u001b[37m\u001b[0m \u001b[1m112s\u001b[0m 1s/step - accuracy: 0.8408 - loss: 0.9822 - val_accuracy: 0.9326 - val_loss: 1.1577\n",
            "Epoch 26/30\n",
            "\u001b[1m98/98\u001b[0m \u001b[32m━━━━━━━━━━━━━━━━━━━━\u001b[0m\u001b[37m\u001b[0m \u001b[1m111s\u001b[0m 1s/step - accuracy: 0.8468 - loss: 0.8162 - val_accuracy: 0.9355 - val_loss: 1.1413\n",
            "Epoch 27/30\n",
            "\u001b[1m98/98\u001b[0m \u001b[32m━━━━━━━━━━━━━━━━━━━━\u001b[0m\u001b[37m\u001b[0m \u001b[1m143s\u001b[0m 1s/step - accuracy: 0.8664 - loss: 0.7632 - val_accuracy: 0.9120 - val_loss: 1.1555\n",
            "Epoch 28/30\n",
            "\u001b[1m98/98\u001b[0m \u001b[32m━━━━━━━━━━━━━━━━━━━━\u001b[0m\u001b[37m\u001b[0m \u001b[1m144s\u001b[0m 1s/step - accuracy: 0.8523 - loss: 0.9700 - val_accuracy: 0.9589 - val_loss: 1.1748\n",
            "Epoch 29/30\n",
            "\u001b[1m98/98\u001b[0m \u001b[32m━━━━━━━━━━━━━━━━━━━━\u001b[0m\u001b[37m\u001b[0m \u001b[1m147s\u001b[0m 1s/step - accuracy: 0.8745 - loss: 0.7896 - val_accuracy: 0.9238 - val_loss: 1.2618\n",
            "Epoch 30/30\n",
            "\u001b[1m98/98\u001b[0m \u001b[32m━━━━━━━━━━━━━━━━━━━━\u001b[0m\u001b[37m\u001b[0m \u001b[1m134s\u001b[0m 1s/step - accuracy: 0.8857 - loss: 0.7008 - val_accuracy: 0.9619 - val_loss: 1.4130\n"
          ]
        }
      ]
    },
    {
      "cell_type": "code",
      "source": [
        "cnn.save('trained_model.h5')"
      ],
      "metadata": {
        "colab": {
          "base_uri": "https://localhost:8080/"
        },
        "id": "vHnPlnsfrFUX",
        "outputId": "979c0f92-06eb-428b-ff0d-664926976898"
      },
      "execution_count": 14,
      "outputs": [
        {
          "output_type": "stream",
          "name": "stderr",
          "text": [
            "WARNING:absl:You are saving your model as an HDF5 file via `model.save()` or `keras.saving.save_model(model)`. This file format is considered legacy. We recommend using instead the native Keras format, e.g. `model.save('my_model.keras')` or `keras.saving.save_model(model, 'my_model.keras')`. \n"
          ]
        }
      ]
    },
    {
      "cell_type": "code",
      "source": [
        "training_history.history"
      ],
      "metadata": {
        "colab": {
          "base_uri": "https://localhost:8080/"
        },
        "id": "gfAPV9H4tqXz",
        "outputId": "9adcfc32-3ccf-49c1-9390-4e1736ed891e"
      },
      "execution_count": 15,
      "outputs": [
        {
          "output_type": "execute_result",
          "data": {
            "text/plain": [
              "{'accuracy': [0.039165329188108444,\n",
              "  0.06035313010215759,\n",
              "  0.09309791028499603,\n",
              "  0.1393258422613144,\n",
              "  0.19967897236347198,\n",
              "  0.2757624387741089,\n",
              "  0.34478330612182617,\n",
              "  0.4089887738227844,\n",
              "  0.47865167260169983,\n",
              "  0.553130030632019,\n",
              "  0.5762439966201782,\n",
              "  0.6410914659500122,\n",
              "  0.7030497789382935,\n",
              "  0.6934189200401306,\n",
              "  0.7136436700820923,\n",
              "  0.742215096950531,\n",
              "  0.773354709148407,\n",
              "  0.7788121700286865,\n",
              "  0.8099518418312073,\n",
              "  0.808346688747406,\n",
              "  0.8231139779090881,\n",
              "  0.8362760543823242,\n",
              "  0.8276083469390869,\n",
              "  0.8497592210769653,\n",
              "  0.8468700051307678,\n",
              "  0.8520064353942871,\n",
              "  0.8712680339813232,\n",
              "  0.8670946955680847,\n",
              "  0.8808988928794861,\n",
              "  0.8805778622627258],\n",
              " 'loss': [11.078876495361328,\n",
              "  3.8241658210754395,\n",
              "  3.905602216720581,\n",
              "  3.482151746749878,\n",
              "  3.1835920810699463,\n",
              "  3.0467031002044678,\n",
              "  2.7817747592926025,\n",
              "  2.8466947078704834,\n",
              "  2.215994358062744,\n",
              "  1.8103491067886353,\n",
              "  1.8034236431121826,\n",
              "  1.5665456056594849,\n",
              "  1.2543585300445557,\n",
              "  1.4236085414886475,\n",
              "  1.3851203918457031,\n",
              "  1.2392115592956543,\n",
              "  1.1500288248062134,\n",
              "  1.0792490243911743,\n",
              "  0.908369779586792,\n",
              "  0.9426835179328918,\n",
              "  0.9701937437057495,\n",
              "  0.848924994468689,\n",
              "  1.0508490800857544,\n",
              "  0.8837195634841919,\n",
              "  0.9631431698799133,\n",
              "  0.8238062858581543,\n",
              "  0.7302916049957275,\n",
              "  0.8393732309341431,\n",
              "  0.6891975402832031,\n",
              "  0.760053277015686],\n",
              " 'val_accuracy': [0.10263929516077042,\n",
              "  0.19648094475269318,\n",
              "  0.23753665387630463,\n",
              "  0.14076246321201324,\n",
              "  0.42521995306015015,\n",
              "  0.39296188950538635,\n",
              "  0.6129032373428345,\n",
              "  0.6158357858657837,\n",
              "  0.6510263681411743,\n",
              "  0.7390029430389404,\n",
              "  0.7712609767913818,\n",
              "  0.8211143612861633,\n",
              "  0.8563050031661987,\n",
              "  0.859237551689148,\n",
              "  0.8504399061203003,\n",
              "  0.8856304883956909,\n",
              "  0.8973606824874878,\n",
              "  0.9149560332298279,\n",
              "  0.8475073575973511,\n",
              "  0.8944281339645386,\n",
              "  0.9149560332298279,\n",
              "  0.7360703945159912,\n",
              "  0.9442815184593201,\n",
              "  0.8885630369186401,\n",
              "  0.9325513243675232,\n",
              "  0.9354838728904724,\n",
              "  0.9120234847068787,\n",
              "  0.9589442610740662,\n",
              "  0.9237536787986755,\n",
              "  0.9618768095970154],\n",
              " 'val_loss': [3.473820447921753,\n",
              "  3.3655614852905273,\n",
              "  2.904878616333008,\n",
              "  3.720332145690918,\n",
              "  2.4527294635772705,\n",
              "  2.7806692123413086,\n",
              "  1.884144902229309,\n",
              "  1.7836074829101562,\n",
              "  1.6606141328811646,\n",
              "  1.2508260011672974,\n",
              "  1.340542197227478,\n",
              "  1.2430024147033691,\n",
              "  1.032167911529541,\n",
              "  1.1253211498260498,\n",
              "  0.9942353963851929,\n",
              "  1.309328556060791,\n",
              "  0.9818930625915527,\n",
              "  0.9861897826194763,\n",
              "  1.2559093236923218,\n",
              "  1.0433838367462158,\n",
              "  1.2375353574752808,\n",
              "  2.7356083393096924,\n",
              "  0.8777279853820801,\n",
              "  1.2020224332809448,\n",
              "  1.1576826572418213,\n",
              "  1.1413203477859497,\n",
              "  1.155522346496582,\n",
              "  1.1747537851333618,\n",
              "  1.2617509365081787,\n",
              "  1.412985920906067]}"
            ]
          },
          "metadata": {},
          "execution_count": 15
        }
      ]
    },
    {
      "cell_type": "code",
      "source": [
        "import json\n",
        "with open('training_hist.json','w')as f:\n",
        " json.dump(training_history.history,f)"
      ],
      "metadata": {
        "id": "Qri1EKwmtdBU"
      },
      "execution_count": 16,
      "outputs": []
    },
    {
      "cell_type": "code",
      "source": [
        "print(training_history.history.keys())"
      ],
      "metadata": {
        "id": "mPfCsXAGuj3Q",
        "colab": {
          "base_uri": "https://localhost:8080/"
        },
        "outputId": "995b5af2-6fbd-4c63-b1ab-741fcaf934a2"
      },
      "execution_count": 17,
      "outputs": [
        {
          "output_type": "stream",
          "name": "stdout",
          "text": [
            "dict_keys(['accuracy', 'loss', 'val_accuracy', 'val_loss'])\n"
          ]
        }
      ]
    },
    {
      "cell_type": "markdown",
      "source": [
        "CALCULATING ACCURACY"
      ],
      "metadata": {
        "id": "12AZj9XFbA8p"
      }
    },
    {
      "cell_type": "code",
      "source": [
        "print(\"validation set accuracy: {} %\".format(training_history.history['val_accuracy'][-1]*100))"
      ],
      "metadata": {
        "id": "sVF8UihPuxQv",
        "colab": {
          "base_uri": "https://localhost:8080/"
        },
        "outputId": "d0298efc-7d10-4cec-ab8f-f45a613ca832"
      },
      "execution_count": 18,
      "outputs": [
        {
          "output_type": "stream",
          "name": "stdout",
          "text": [
            "validation set accuracy: 96.18768095970154 %\n"
          ]
        }
      ]
    },
    {
      "cell_type": "code",
      "source": [
        "epochs=[i for i in range(1,31)]\n",
        "plt.plot(epochs,training_history.history['accuracy'],color='red')\n",
        "plt.xlabel('epochs')\n",
        "plt.ylabel('Training Accuracy')\n",
        "plt.title('visualization of Training accuracy result')\n",
        "plt.show()"
      ],
      "metadata": {
        "colab": {
          "base_uri": "https://localhost:8080/",
          "height": 472
        },
        "id": "mPrUr2fUwZU7",
        "outputId": "a3aabcd4-248c-4deb-be1e-8a569dfdbd40"
      },
      "execution_count": 19,
      "outputs": [
        {
          "output_type": "display_data",
          "data": {
            "text/plain": [
              "<Figure size 640x480 with 1 Axes>"
            ],
            "image/png": "[encoded data removed]"
          },
          "metadata": {}
        }
      ]
    },
    {
      "cell_type": "code",
      "source": [
        "plt.plot(epochs,training_history.history['val_accuracy'],color='blue')\n",
        "plt.xlabel('No.of.epochs')\n",
        "plt.ylabel('validation accuracy')\n",
        "plt.title('visualization of Validation accuracy result')\n",
        "plt.show()"
      ],
      "metadata": {
        "id": "CoX3to21wmvg",
        "colab": {
          "base_uri": "https://localhost:8080/",
          "height": 472
        },
        "outputId": "32bd04f6-9fbf-4684-ff00-2cb0324e69ab"
      },
      "execution_count": 20,
      "outputs": [
        {
          "output_type": "display_data",
          "data": {
            "text/plain": [
              "<Figure size 640x480 with 1 Axes>"
            ],
            "image/png": "[encoded data removed]"
          },
          "metadata": {}
        }
      ]
    },
    {
      "cell_type": "code",
      "source": [],
      "metadata": {
        "id": "m87JI5hdx2YG"
      },
      "execution_count": null,
      "outputs": []
    }
  ]
}